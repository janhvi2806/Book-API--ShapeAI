{
  "nbformat": 4,
  "nbformat_minor": 0,
  "metadata": {
    "colab": {
      "provenance": [],
      "collapsed_sections": [],
      "authorship_tag": "ABX9TyNlZMQhG7CcoRE7MuB+cZXi",
      "include_colab_link": true
    },
    "kernelspec": {
      "name": "python3",
      "display_name": "Python 3"
    },
    "language_info": {
      "name": "python"
    }
  },
  "cells": [
    {
      "cell_type": "markdown",
      "metadata": {
        "id": "view-in-github",
        "colab_type": "text"
      },
      "source": [
        "<a href=\"https://colab.research.google.com/github/janhvi2806/Book-API--ShapeAI/blob/main/Diabetes_Prediction_DL_ANN.ipynb\" target=\"_parent\"><img src=\"https://colab.research.google.com/assets/colab-badge.svg\" alt=\"Open In Colab\"/></a>"
      ]
    },
    {
      "cell_type": "markdown",
      "source": [
        "# **Diabetes Prediction Model**\n",
        "\n",
        "------------"
      ],
      "metadata": {
        "id": "z2LIrRkepw1U"
      }
    },
    {
      "cell_type": "code",
      "execution_count": null,
      "metadata": {
        "id": "yzXqEpxAmv-g"
      },
      "outputs": [],
      "source": [
        "import numpy as np \n",
        "import pandas as pd \n",
        "from scipy import stats \n",
        "import seaborn as sns\n",
        "\n",
        "from sklearn.model_selection import train_test_split\n",
        "import tensorflow as tf\n",
        "from tensorflow.keras import Sequential\n",
        "from tensorflow.keras.layers import Dense, Dropout"
      ]
    },
    {
      "cell_type": "code",
      "source": [
        "from google.colab import drive\n",
        "drive.mount('/content/gdrive')"
      ],
      "metadata": {
        "colab": {
          "base_uri": "https://localhost:8080/"
        },
        "id": "uUztWNw8ENNc",
        "outputId": "afbb2c09-44e8-43ab-9d7c-eaa3f2a12c95"
      },
      "execution_count": null,
      "outputs": [
        {
          "output_type": "stream",
          "name": "stdout",
          "text": [
            "Drive already mounted at /content/gdrive; to attempt to forcibly remount, call drive.mount(\"/content/gdrive\", force_remount=True).\n"
          ]
        }
      ]
    },
    {
      "cell_type": "code",
      "source": [
        "data= pd.read_csv('/content/gdrive/MyDrive/UIA Hackathon/diabetes.csv')\n",
        "data.head()"
      ],
      "metadata": {
        "colab": {
          "base_uri": "https://localhost:8080/",
          "height": 206
        },
        "id": "hL2u_HX6qiL2",
        "outputId": "8298a912-698a-4679-eb3e-70cbccce519e"
      },
      "execution_count": null,
      "outputs": [
        {
          "output_type": "execute_result",
          "data": {
            "text/plain": [
              "   Glucose  BloodPressure  Insulin   BMI  Age  Outcome\n",
              "0      148             72        0  33.6   50        1\n",
              "1       85             66        0  26.6   31        0\n",
              "2      183             64        0  23.3   32        1\n",
              "3       89             66       94  28.1   21        0\n",
              "4      137             40      168  43.1   33        1"
            ],
            "text/html": [
              "\n",
              "  <div id=\"df-2e08e4ed-40f3-4485-a8e3-018b9a88946e\">\n",
              "    <div class=\"colab-df-container\">\n",
              "      <div>\n",
              "<style scoped>\n",
              "    .dataframe tbody tr th:only-of-type {\n",
              "        vertical-align: middle;\n",
              "    }\n",
              "\n",
              "    .dataframe tbody tr th {\n",
              "        vertical-align: top;\n",
              "    }\n",
              "\n",
              "    .dataframe thead th {\n",
              "        text-align: right;\n",
              "    }\n",
              "</style>\n",
              "<table border=\"1\" class=\"dataframe\">\n",
              "  <thead>\n",
              "    <tr style=\"text-align: right;\">\n",
              "      <th></th>\n",
              "      <th>Glucose</th>\n",
              "      <th>BloodPressure</th>\n",
              "      <th>Insulin</th>\n",
              "      <th>BMI</th>\n",
              "      <th>Age</th>\n",
              "      <th>Outcome</th>\n",
              "    </tr>\n",
              "  </thead>\n",
              "  <tbody>\n",
              "    <tr>\n",
              "      <th>0</th>\n",
              "      <td>148</td>\n",
              "      <td>72</td>\n",
              "      <td>0</td>\n",
              "      <td>33.6</td>\n",
              "      <td>50</td>\n",
              "      <td>1</td>\n",
              "    </tr>\n",
              "    <tr>\n",
              "      <th>1</th>\n",
              "      <td>85</td>\n",
              "      <td>66</td>\n",
              "      <td>0</td>\n",
              "      <td>26.6</td>\n",
              "      <td>31</td>\n",
              "      <td>0</td>\n",
              "    </tr>\n",
              "    <tr>\n",
              "      <th>2</th>\n",
              "      <td>183</td>\n",
              "      <td>64</td>\n",
              "      <td>0</td>\n",
              "      <td>23.3</td>\n",
              "      <td>32</td>\n",
              "      <td>1</td>\n",
              "    </tr>\n",
              "    <tr>\n",
              "      <th>3</th>\n",
              "      <td>89</td>\n",
              "      <td>66</td>\n",
              "      <td>94</td>\n",
              "      <td>28.1</td>\n",
              "      <td>21</td>\n",
              "      <td>0</td>\n",
              "    </tr>\n",
              "    <tr>\n",
              "      <th>4</th>\n",
              "      <td>137</td>\n",
              "      <td>40</td>\n",
              "      <td>168</td>\n",
              "      <td>43.1</td>\n",
              "      <td>33</td>\n",
              "      <td>1</td>\n",
              "    </tr>\n",
              "  </tbody>\n",
              "</table>\n",
              "</div>\n",
              "      <button class=\"colab-df-convert\" onclick=\"convertToInteractive('df-2e08e4ed-40f3-4485-a8e3-018b9a88946e')\"\n",
              "              title=\"Convert this dataframe to an interactive table.\"\n",
              "              style=\"display:none;\">\n",
              "        \n",
              "  <svg xmlns=\"http://www.w3.org/2000/svg\" height=\"24px\"viewBox=\"0 0 24 24\"\n",
              "       width=\"24px\">\n",
              "    <path d=\"M0 0h24v24H0V0z\" fill=\"none\"/>\n",
              "    <path d=\"M18.56 5.44l.94 2.06.94-2.06 2.06-.94-2.06-.94-.94-2.06-.94 2.06-2.06.94zm-11 1L8.5 8.5l.94-2.06 2.06-.94-2.06-.94L8.5 2.5l-.94 2.06-2.06.94zm10 10l.94 2.06.94-2.06 2.06-.94-2.06-.94-.94-2.06-.94 2.06-2.06.94z\"/><path d=\"M17.41 7.96l-1.37-1.37c-.4-.4-.92-.59-1.43-.59-.52 0-1.04.2-1.43.59L10.3 9.45l-7.72 7.72c-.78.78-.78 2.05 0 2.83L4 21.41c.39.39.9.59 1.41.59.51 0 1.02-.2 1.41-.59l7.78-7.78 2.81-2.81c.8-.78.8-2.07 0-2.86zM5.41 20L4 18.59l7.72-7.72 1.47 1.35L5.41 20z\"/>\n",
              "  </svg>\n",
              "      </button>\n",
              "      \n",
              "  <style>\n",
              "    .colab-df-container {\n",
              "      display:flex;\n",
              "      flex-wrap:wrap;\n",
              "      gap: 12px;\n",
              "    }\n",
              "\n",
              "    .colab-df-convert {\n",
              "      background-color: #E8F0FE;\n",
              "      border: none;\n",
              "      border-radius: 50%;\n",
              "      cursor: pointer;\n",
              "      display: none;\n",
              "      fill: #1967D2;\n",
              "      height: 32px;\n",
              "      padding: 0 0 0 0;\n",
              "      width: 32px;\n",
              "    }\n",
              "\n",
              "    .colab-df-convert:hover {\n",
              "      background-color: #E2EBFA;\n",
              "      box-shadow: 0px 1px 2px rgba(60, 64, 67, 0.3), 0px 1px 3px 1px rgba(60, 64, 67, 0.15);\n",
              "      fill: #174EA6;\n",
              "    }\n",
              "\n",
              "    [theme=dark] .colab-df-convert {\n",
              "      background-color: #3B4455;\n",
              "      fill: #D2E3FC;\n",
              "    }\n",
              "\n",
              "    [theme=dark] .colab-df-convert:hover {\n",
              "      background-color: #434B5C;\n",
              "      box-shadow: 0px 1px 3px 1px rgba(0, 0, 0, 0.15);\n",
              "      filter: drop-shadow(0px 1px 2px rgba(0, 0, 0, 0.3));\n",
              "      fill: #FFFFFF;\n",
              "    }\n",
              "  </style>\n",
              "\n",
              "      <script>\n",
              "        const buttonEl =\n",
              "          document.querySelector('#df-2e08e4ed-40f3-4485-a8e3-018b9a88946e button.colab-df-convert');\n",
              "        buttonEl.style.display =\n",
              "          google.colab.kernel.accessAllowed ? 'block' : 'none';\n",
              "\n",
              "        async function convertToInteractive(key) {\n",
              "          const element = document.querySelector('#df-2e08e4ed-40f3-4485-a8e3-018b9a88946e');\n",
              "          const dataTable =\n",
              "            await google.colab.kernel.invokeFunction('convertToInteractive',\n",
              "                                                     [key], {});\n",
              "          if (!dataTable) return;\n",
              "\n",
              "          const docLinkHtml = 'Like what you see? Visit the ' +\n",
              "            '<a target=\"_blank\" href=https://colab.research.google.com/notebooks/data_table.ipynb>data table notebook</a>'\n",
              "            + ' to learn more about interactive tables.';\n",
              "          element.innerHTML = '';\n",
              "          dataTable['output_type'] = 'display_data';\n",
              "          await google.colab.output.renderOutput(dataTable, element);\n",
              "          const docLink = document.createElement('div');\n",
              "          docLink.innerHTML = docLinkHtml;\n",
              "          element.appendChild(docLink);\n",
              "        }\n",
              "      </script>\n",
              "    </div>\n",
              "  </div>\n",
              "  "
            ]
          },
          "metadata": {},
          "execution_count": 7
        }
      ]
    },
    {
      "cell_type": "code",
      "source": [
        "data.info()"
      ],
      "metadata": {
        "colab": {
          "base_uri": "https://localhost:8080/"
        },
        "id": "t8QYgP55q2vc",
        "outputId": "2f8bface-9364-4e47-f74d-3f3751a9db09"
      },
      "execution_count": null,
      "outputs": [
        {
          "output_type": "stream",
          "name": "stdout",
          "text": [
            "<class 'pandas.core.frame.DataFrame'>\n",
            "RangeIndex: 768 entries, 0 to 767\n",
            "Data columns (total 6 columns):\n",
            " #   Column         Non-Null Count  Dtype  \n",
            "---  ------         --------------  -----  \n",
            " 0   Glucose        768 non-null    int64  \n",
            " 1   BloodPressure  768 non-null    int64  \n",
            " 2   Insulin        768 non-null    int64  \n",
            " 3   BMI            768 non-null    float64\n",
            " 4   Age            768 non-null    int64  \n",
            " 5   Outcome        768 non-null    int64  \n",
            "dtypes: float64(1), int64(5)\n",
            "memory usage: 36.1 KB\n"
          ]
        }
      ]
    },
    {
      "cell_type": "code",
      "source": [
        "data.dtypes"
      ],
      "metadata": {
        "colab": {
          "base_uri": "https://localhost:8080/"
        },
        "id": "Oy-dnJYD6FSE",
        "outputId": "0a57b095-0083-4e48-b504-014dafb805fa"
      },
      "execution_count": null,
      "outputs": [
        {
          "output_type": "execute_result",
          "data": {
            "text/plain": [
              "Glucose            int64\n",
              "BloodPressure      int64\n",
              "Insulin            int64\n",
              "BMI              float64\n",
              "Age                int64\n",
              "Outcome            int64\n",
              "dtype: object"
            ]
          },
          "metadata": {},
          "execution_count": 9
        }
      ]
    },
    {
      "cell_type": "markdown",
      "source": [
        "This data does not contain any null values. So we don't need to worry about filling/dropping values."
      ],
      "metadata": {
        "id": "SYks8QncsD5N"
      }
    },
    {
      "cell_type": "code",
      "source": [
        "data.isnull().sum()"
      ],
      "metadata": {
        "colab": {
          "base_uri": "https://localhost:8080/"
        },
        "id": "_Ajve_bsr_6W",
        "outputId": "205d69f3-83a4-4eef-ccc0-d9cb8768c71f"
      },
      "execution_count": null,
      "outputs": [
        {
          "output_type": "execute_result",
          "data": {
            "text/plain": [
              "Glucose          0\n",
              "BloodPressure    0\n",
              "Insulin          0\n",
              "BMI              0\n",
              "Age              0\n",
              "Outcome          0\n",
              "dtype: int64"
            ]
          },
          "metadata": {},
          "execution_count": 10
        }
      ]
    },
    {
      "cell_type": "code",
      "source": [
        "data.duplicated()\n",
        "data=data.drop_duplicates()\n",
        "data.head()"
      ],
      "metadata": {
        "colab": {
          "base_uri": "https://localhost:8080/",
          "height": 206
        },
        "id": "5-Yt0sHasa5F",
        "outputId": "e5a0be5a-0629-428f-aaeb-f6420cb1f1aa"
      },
      "execution_count": null,
      "outputs": [
        {
          "output_type": "execute_result",
          "data": {
            "text/plain": [
              "   Glucose  BloodPressure  Insulin   BMI  Age  Outcome\n",
              "0      148             72        0  33.6   50        1\n",
              "1       85             66        0  26.6   31        0\n",
              "2      183             64        0  23.3   32        1\n",
              "3       89             66       94  28.1   21        0\n",
              "4      137             40      168  43.1   33        1"
            ],
            "text/html": [
              "\n",
              "  <div id=\"df-8f75da0e-b9f4-4f28-b312-b068cb1f2eaf\">\n",
              "    <div class=\"colab-df-container\">\n",
              "      <div>\n",
              "<style scoped>\n",
              "    .dataframe tbody tr th:only-of-type {\n",
              "        vertical-align: middle;\n",
              "    }\n",
              "\n",
              "    .dataframe tbody tr th {\n",
              "        vertical-align: top;\n",
              "    }\n",
              "\n",
              "    .dataframe thead th {\n",
              "        text-align: right;\n",
              "    }\n",
              "</style>\n",
              "<table border=\"1\" class=\"dataframe\">\n",
              "  <thead>\n",
              "    <tr style=\"text-align: right;\">\n",
              "      <th></th>\n",
              "      <th>Glucose</th>\n",
              "      <th>BloodPressure</th>\n",
              "      <th>Insulin</th>\n",
              "      <th>BMI</th>\n",
              "      <th>Age</th>\n",
              "      <th>Outcome</th>\n",
              "    </tr>\n",
              "  </thead>\n",
              "  <tbody>\n",
              "    <tr>\n",
              "      <th>0</th>\n",
              "      <td>148</td>\n",
              "      <td>72</td>\n",
              "      <td>0</td>\n",
              "      <td>33.6</td>\n",
              "      <td>50</td>\n",
              "      <td>1</td>\n",
              "    </tr>\n",
              "    <tr>\n",
              "      <th>1</th>\n",
              "      <td>85</td>\n",
              "      <td>66</td>\n",
              "      <td>0</td>\n",
              "      <td>26.6</td>\n",
              "      <td>31</td>\n",
              "      <td>0</td>\n",
              "    </tr>\n",
              "    <tr>\n",
              "      <th>2</th>\n",
              "      <td>183</td>\n",
              "      <td>64</td>\n",
              "      <td>0</td>\n",
              "      <td>23.3</td>\n",
              "      <td>32</td>\n",
              "      <td>1</td>\n",
              "    </tr>\n",
              "    <tr>\n",
              "      <th>3</th>\n",
              "      <td>89</td>\n",
              "      <td>66</td>\n",
              "      <td>94</td>\n",
              "      <td>28.1</td>\n",
              "      <td>21</td>\n",
              "      <td>0</td>\n",
              "    </tr>\n",
              "    <tr>\n",
              "      <th>4</th>\n",
              "      <td>137</td>\n",
              "      <td>40</td>\n",
              "      <td>168</td>\n",
              "      <td>43.1</td>\n",
              "      <td>33</td>\n",
              "      <td>1</td>\n",
              "    </tr>\n",
              "  </tbody>\n",
              "</table>\n",
              "</div>\n",
              "      <button class=\"colab-df-convert\" onclick=\"convertToInteractive('df-8f75da0e-b9f4-4f28-b312-b068cb1f2eaf')\"\n",
              "              title=\"Convert this dataframe to an interactive table.\"\n",
              "              style=\"display:none;\">\n",
              "        \n",
              "  <svg xmlns=\"http://www.w3.org/2000/svg\" height=\"24px\"viewBox=\"0 0 24 24\"\n",
              "       width=\"24px\">\n",
              "    <path d=\"M0 0h24v24H0V0z\" fill=\"none\"/>\n",
              "    <path d=\"M18.56 5.44l.94 2.06.94-2.06 2.06-.94-2.06-.94-.94-2.06-.94 2.06-2.06.94zm-11 1L8.5 8.5l.94-2.06 2.06-.94-2.06-.94L8.5 2.5l-.94 2.06-2.06.94zm10 10l.94 2.06.94-2.06 2.06-.94-2.06-.94-.94-2.06-.94 2.06-2.06.94z\"/><path d=\"M17.41 7.96l-1.37-1.37c-.4-.4-.92-.59-1.43-.59-.52 0-1.04.2-1.43.59L10.3 9.45l-7.72 7.72c-.78.78-.78 2.05 0 2.83L4 21.41c.39.39.9.59 1.41.59.51 0 1.02-.2 1.41-.59l7.78-7.78 2.81-2.81c.8-.78.8-2.07 0-2.86zM5.41 20L4 18.59l7.72-7.72 1.47 1.35L5.41 20z\"/>\n",
              "  </svg>\n",
              "      </button>\n",
              "      \n",
              "  <style>\n",
              "    .colab-df-container {\n",
              "      display:flex;\n",
              "      flex-wrap:wrap;\n",
              "      gap: 12px;\n",
              "    }\n",
              "\n",
              "    .colab-df-convert {\n",
              "      background-color: #E8F0FE;\n",
              "      border: none;\n",
              "      border-radius: 50%;\n",
              "      cursor: pointer;\n",
              "      display: none;\n",
              "      fill: #1967D2;\n",
              "      height: 32px;\n",
              "      padding: 0 0 0 0;\n",
              "      width: 32px;\n",
              "    }\n",
              "\n",
              "    .colab-df-convert:hover {\n",
              "      background-color: #E2EBFA;\n",
              "      box-shadow: 0px 1px 2px rgba(60, 64, 67, 0.3), 0px 1px 3px 1px rgba(60, 64, 67, 0.15);\n",
              "      fill: #174EA6;\n",
              "    }\n",
              "\n",
              "    [theme=dark] .colab-df-convert {\n",
              "      background-color: #3B4455;\n",
              "      fill: #D2E3FC;\n",
              "    }\n",
              "\n",
              "    [theme=dark] .colab-df-convert:hover {\n",
              "      background-color: #434B5C;\n",
              "      box-shadow: 0px 1px 3px 1px rgba(0, 0, 0, 0.15);\n",
              "      filter: drop-shadow(0px 1px 2px rgba(0, 0, 0, 0.3));\n",
              "      fill: #FFFFFF;\n",
              "    }\n",
              "  </style>\n",
              "\n",
              "      <script>\n",
              "        const buttonEl =\n",
              "          document.querySelector('#df-8f75da0e-b9f4-4f28-b312-b068cb1f2eaf button.colab-df-convert');\n",
              "        buttonEl.style.display =\n",
              "          google.colab.kernel.accessAllowed ? 'block' : 'none';\n",
              "\n",
              "        async function convertToInteractive(key) {\n",
              "          const element = document.querySelector('#df-8f75da0e-b9f4-4f28-b312-b068cb1f2eaf');\n",
              "          const dataTable =\n",
              "            await google.colab.kernel.invokeFunction('convertToInteractive',\n",
              "                                                     [key], {});\n",
              "          if (!dataTable) return;\n",
              "\n",
              "          const docLinkHtml = 'Like what you see? Visit the ' +\n",
              "            '<a target=\"_blank\" href=https://colab.research.google.com/notebooks/data_table.ipynb>data table notebook</a>'\n",
              "            + ' to learn more about interactive tables.';\n",
              "          element.innerHTML = '';\n",
              "          dataTable['output_type'] = 'display_data';\n",
              "          await google.colab.output.renderOutput(dataTable, element);\n",
              "          const docLink = document.createElement('div');\n",
              "          docLink.innerHTML = docLinkHtml;\n",
              "          element.appendChild(docLink);\n",
              "        }\n",
              "      </script>\n",
              "    </div>\n",
              "  </div>\n",
              "  "
            ]
          },
          "metadata": {},
          "execution_count": 11
        }
      ]
    },
    {
      "cell_type": "markdown",
      "source": [
        "The data doesn't contain any duplicate values also. Hence we need not worry about them."
      ],
      "metadata": {
        "id": "rPiioZcIskq8"
      }
    },
    {
      "cell_type": "code",
      "source": [
        "data.describe()"
      ],
      "metadata": {
        "colab": {
          "base_uri": "https://localhost:8080/",
          "height": 300
        },
        "id": "S3my-Hhusfvc",
        "outputId": "56cadeb5-2c7d-4e0c-bb3e-3e11b589cf32"
      },
      "execution_count": null,
      "outputs": [
        {
          "output_type": "execute_result",
          "data": {
            "text/plain": [
              "          Glucose  BloodPressure     Insulin         BMI         Age  \\\n",
              "count  768.000000     768.000000  768.000000  768.000000  768.000000   \n",
              "mean   120.894531      69.105469   79.799479   31.992578   33.240885   \n",
              "std     31.972618      19.355807  115.244002    7.884160   11.760232   \n",
              "min      0.000000       0.000000    0.000000    0.000000   21.000000   \n",
              "25%     99.000000      62.000000    0.000000   27.300000   24.000000   \n",
              "50%    117.000000      72.000000   30.500000   32.000000   29.000000   \n",
              "75%    140.250000      80.000000  127.250000   36.600000   41.000000   \n",
              "max    199.000000     122.000000  846.000000   67.100000   81.000000   \n",
              "\n",
              "          Outcome  \n",
              "count  768.000000  \n",
              "mean     0.348958  \n",
              "std      0.476951  \n",
              "min      0.000000  \n",
              "25%      0.000000  \n",
              "50%      0.000000  \n",
              "75%      1.000000  \n",
              "max      1.000000  "
            ],
            "text/html": [
              "\n",
              "  <div id=\"df-3d1a76c6-5a85-4171-9035-7f78fd4dcb57\">\n",
              "    <div class=\"colab-df-container\">\n",
              "      <div>\n",
              "<style scoped>\n",
              "    .dataframe tbody tr th:only-of-type {\n",
              "        vertical-align: middle;\n",
              "    }\n",
              "\n",
              "    .dataframe tbody tr th {\n",
              "        vertical-align: top;\n",
              "    }\n",
              "\n",
              "    .dataframe thead th {\n",
              "        text-align: right;\n",
              "    }\n",
              "</style>\n",
              "<table border=\"1\" class=\"dataframe\">\n",
              "  <thead>\n",
              "    <tr style=\"text-align: right;\">\n",
              "      <th></th>\n",
              "      <th>Glucose</th>\n",
              "      <th>BloodPressure</th>\n",
              "      <th>Insulin</th>\n",
              "      <th>BMI</th>\n",
              "      <th>Age</th>\n",
              "      <th>Outcome</th>\n",
              "    </tr>\n",
              "  </thead>\n",
              "  <tbody>\n",
              "    <tr>\n",
              "      <th>count</th>\n",
              "      <td>768.000000</td>\n",
              "      <td>768.000000</td>\n",
              "      <td>768.000000</td>\n",
              "      <td>768.000000</td>\n",
              "      <td>768.000000</td>\n",
              "      <td>768.000000</td>\n",
              "    </tr>\n",
              "    <tr>\n",
              "      <th>mean</th>\n",
              "      <td>120.894531</td>\n",
              "      <td>69.105469</td>\n",
              "      <td>79.799479</td>\n",
              "      <td>31.992578</td>\n",
              "      <td>33.240885</td>\n",
              "      <td>0.348958</td>\n",
              "    </tr>\n",
              "    <tr>\n",
              "      <th>std</th>\n",
              "      <td>31.972618</td>\n",
              "      <td>19.355807</td>\n",
              "      <td>115.244002</td>\n",
              "      <td>7.884160</td>\n",
              "      <td>11.760232</td>\n",
              "      <td>0.476951</td>\n",
              "    </tr>\n",
              "    <tr>\n",
              "      <th>min</th>\n",
              "      <td>0.000000</td>\n",
              "      <td>0.000000</td>\n",
              "      <td>0.000000</td>\n",
              "      <td>0.000000</td>\n",
              "      <td>21.000000</td>\n",
              "      <td>0.000000</td>\n",
              "    </tr>\n",
              "    <tr>\n",
              "      <th>25%</th>\n",
              "      <td>99.000000</td>\n",
              "      <td>62.000000</td>\n",
              "      <td>0.000000</td>\n",
              "      <td>27.300000</td>\n",
              "      <td>24.000000</td>\n",
              "      <td>0.000000</td>\n",
              "    </tr>\n",
              "    <tr>\n",
              "      <th>50%</th>\n",
              "      <td>117.000000</td>\n",
              "      <td>72.000000</td>\n",
              "      <td>30.500000</td>\n",
              "      <td>32.000000</td>\n",
              "      <td>29.000000</td>\n",
              "      <td>0.000000</td>\n",
              "    </tr>\n",
              "    <tr>\n",
              "      <th>75%</th>\n",
              "      <td>140.250000</td>\n",
              "      <td>80.000000</td>\n",
              "      <td>127.250000</td>\n",
              "      <td>36.600000</td>\n",
              "      <td>41.000000</td>\n",
              "      <td>1.000000</td>\n",
              "    </tr>\n",
              "    <tr>\n",
              "      <th>max</th>\n",
              "      <td>199.000000</td>\n",
              "      <td>122.000000</td>\n",
              "      <td>846.000000</td>\n",
              "      <td>67.100000</td>\n",
              "      <td>81.000000</td>\n",
              "      <td>1.000000</td>\n",
              "    </tr>\n",
              "  </tbody>\n",
              "</table>\n",
              "</div>\n",
              "      <button class=\"colab-df-convert\" onclick=\"convertToInteractive('df-3d1a76c6-5a85-4171-9035-7f78fd4dcb57')\"\n",
              "              title=\"Convert this dataframe to an interactive table.\"\n",
              "              style=\"display:none;\">\n",
              "        \n",
              "  <svg xmlns=\"http://www.w3.org/2000/svg\" height=\"24px\"viewBox=\"0 0 24 24\"\n",
              "       width=\"24px\">\n",
              "    <path d=\"M0 0h24v24H0V0z\" fill=\"none\"/>\n",
              "    <path d=\"M18.56 5.44l.94 2.06.94-2.06 2.06-.94-2.06-.94-.94-2.06-.94 2.06-2.06.94zm-11 1L8.5 8.5l.94-2.06 2.06-.94-2.06-.94L8.5 2.5l-.94 2.06-2.06.94zm10 10l.94 2.06.94-2.06 2.06-.94-2.06-.94-.94-2.06-.94 2.06-2.06.94z\"/><path d=\"M17.41 7.96l-1.37-1.37c-.4-.4-.92-.59-1.43-.59-.52 0-1.04.2-1.43.59L10.3 9.45l-7.72 7.72c-.78.78-.78 2.05 0 2.83L4 21.41c.39.39.9.59 1.41.59.51 0 1.02-.2 1.41-.59l7.78-7.78 2.81-2.81c.8-.78.8-2.07 0-2.86zM5.41 20L4 18.59l7.72-7.72 1.47 1.35L5.41 20z\"/>\n",
              "  </svg>\n",
              "      </button>\n",
              "      \n",
              "  <style>\n",
              "    .colab-df-container {\n",
              "      display:flex;\n",
              "      flex-wrap:wrap;\n",
              "      gap: 12px;\n",
              "    }\n",
              "\n",
              "    .colab-df-convert {\n",
              "      background-color: #E8F0FE;\n",
              "      border: none;\n",
              "      border-radius: 50%;\n",
              "      cursor: pointer;\n",
              "      display: none;\n",
              "      fill: #1967D2;\n",
              "      height: 32px;\n",
              "      padding: 0 0 0 0;\n",
              "      width: 32px;\n",
              "    }\n",
              "\n",
              "    .colab-df-convert:hover {\n",
              "      background-color: #E2EBFA;\n",
              "      box-shadow: 0px 1px 2px rgba(60, 64, 67, 0.3), 0px 1px 3px 1px rgba(60, 64, 67, 0.15);\n",
              "      fill: #174EA6;\n",
              "    }\n",
              "\n",
              "    [theme=dark] .colab-df-convert {\n",
              "      background-color: #3B4455;\n",
              "      fill: #D2E3FC;\n",
              "    }\n",
              "\n",
              "    [theme=dark] .colab-df-convert:hover {\n",
              "      background-color: #434B5C;\n",
              "      box-shadow: 0px 1px 3px 1px rgba(0, 0, 0, 0.15);\n",
              "      filter: drop-shadow(0px 1px 2px rgba(0, 0, 0, 0.3));\n",
              "      fill: #FFFFFF;\n",
              "    }\n",
              "  </style>\n",
              "\n",
              "      <script>\n",
              "        const buttonEl =\n",
              "          document.querySelector('#df-3d1a76c6-5a85-4171-9035-7f78fd4dcb57 button.colab-df-convert');\n",
              "        buttonEl.style.display =\n",
              "          google.colab.kernel.accessAllowed ? 'block' : 'none';\n",
              "\n",
              "        async function convertToInteractive(key) {\n",
              "          const element = document.querySelector('#df-3d1a76c6-5a85-4171-9035-7f78fd4dcb57');\n",
              "          const dataTable =\n",
              "            await google.colab.kernel.invokeFunction('convertToInteractive',\n",
              "                                                     [key], {});\n",
              "          if (!dataTable) return;\n",
              "\n",
              "          const docLinkHtml = 'Like what you see? Visit the ' +\n",
              "            '<a target=\"_blank\" href=https://colab.research.google.com/notebooks/data_table.ipynb>data table notebook</a>'\n",
              "            + ' to learn more about interactive tables.';\n",
              "          element.innerHTML = '';\n",
              "          dataTable['output_type'] = 'display_data';\n",
              "          await google.colab.output.renderOutput(dataTable, element);\n",
              "          const docLink = document.createElement('div');\n",
              "          docLink.innerHTML = docLinkHtml;\n",
              "          element.appendChild(docLink);\n",
              "        }\n",
              "      </script>\n",
              "    </div>\n",
              "  </div>\n",
              "  "
            ]
          },
          "metadata": {},
          "execution_count": 12
        }
      ]
    },
    {
      "cell_type": "markdown",
      "source": [
        "All bioparameters are in the range. Hence the data does not have observational/structural errors in them. Hence we need to worry about them."
      ],
      "metadata": {
        "id": "RiOZH3v6szbu"
      }
    },
    {
      "cell_type": "code",
      "source": [
        "for x in data.columns:\n",
        "    z=np.abs(stats.zscore(data[x]))\n",
        "    print(x+str(z))"
      ],
      "metadata": {
        "colab": {
          "base_uri": "https://localhost:8080/"
        },
        "id": "yDIDmJrcsv8d",
        "outputId": "52dc76bf-3c97-456e-c967-d9aeb7d8ddc9"
      },
      "execution_count": null,
      "outputs": [
        {
          "output_type": "stream",
          "name": "stdout",
          "text": [
            "Glucose0      0.848324\n",
            "1      1.123396\n",
            "2      1.943724\n",
            "3      0.998208\n",
            "4      0.504055\n",
            "         ...   \n",
            "763    0.622642\n",
            "764    0.034598\n",
            "765    0.003301\n",
            "766    0.159787\n",
            "767    0.873019\n",
            "Name: Glucose, Length: 768, dtype: float64\n",
            "BloodPressure0      0.149641\n",
            "1      0.160546\n",
            "2      0.263941\n",
            "3      0.160546\n",
            "4      1.504687\n",
            "         ...   \n",
            "763    0.356432\n",
            "764    0.046245\n",
            "765    0.149641\n",
            "766    0.470732\n",
            "767    0.046245\n",
            "Name: BloodPressure, Length: 768, dtype: float64\n",
            "Insulin0      0.692891\n",
            "1      0.692891\n",
            "2      0.692891\n",
            "3      0.123302\n",
            "4      0.765836\n",
            "         ...   \n",
            "763    0.870031\n",
            "764    0.692891\n",
            "765    0.279594\n",
            "766    0.692891\n",
            "767    0.692891\n",
            "Name: Insulin, Length: 768, dtype: float64\n",
            "BMI0      0.204013\n",
            "1      0.684422\n",
            "2      1.103255\n",
            "3      0.494043\n",
            "4      1.409746\n",
            "         ...   \n",
            "763    0.115169\n",
            "764    0.610154\n",
            "765    0.735190\n",
            "766    0.240205\n",
            "767    0.202129\n",
            "Name: BMI, Length: 768, dtype: float64\n",
            "Age0      1.425995\n",
            "1      0.190672\n",
            "2      0.105584\n",
            "3      1.041549\n",
            "4      0.020496\n",
            "         ...   \n",
            "763    2.532136\n",
            "764    0.531023\n",
            "765    0.275760\n",
            "766    1.170732\n",
            "767    0.871374\n",
            "Name: Age, Length: 768, dtype: float64\n",
            "Outcome0      1.365896\n",
            "1      0.732120\n",
            "2      1.365896\n",
            "3      0.732120\n",
            "4      1.365896\n",
            "         ...   \n",
            "763    0.732120\n",
            "764    0.732120\n",
            "765    0.732120\n",
            "766    1.365896\n",
            "767    0.732120\n",
            "Name: Outcome, Length: 768, dtype: float64\n"
          ]
        }
      ]
    },
    {
      "cell_type": "markdown",
      "source": [
        "According to the z-score statistical parameter, the above datapoints are considered as outliers. But I dont think these are outliers and I consider that these data are essential for identfying diabetes condition."
      ],
      "metadata": {
        "id": "UeqlBzjNs_jl"
      }
    },
    {
      "cell_type": "markdown",
      "source": [
        "The next step is feature scaling. I am doing a comparison of ML and DL for this dataset. For ML, i am considering SVM, which is a distance based algorithm. Hence normalization of data would be appropriate. On the other hand, for DL I am considering ANN, which is gradient descent based algorithm for which standardisation of data would be appropriate, since it can help in faster identification of local minima."
      ],
      "metadata": {
        "id": "0JwH1IWItBEV"
      }
    },
    {
      "cell_type": "code",
      "source": [
        "data_norm=data.copy()\n",
        "for column in data.columns:\n",
        "    data_norm[column] = (data_norm[column] - data_norm[column].min()) / (data_norm[column].max() - data_norm[column].min()) \n",
        "data_norm.head()"
      ],
      "metadata": {
        "colab": {
          "base_uri": "https://localhost:8080/",
          "height": 206
        },
        "id": "JFuXEciLs6ut",
        "outputId": "67f339f9-a4ba-4a82-e916-c92cfa148c34"
      },
      "execution_count": null,
      "outputs": [
        {
          "output_type": "execute_result",
          "data": {
            "text/plain": [
              "    Glucose  BloodPressure   Insulin       BMI       Age  Outcome\n",
              "0  0.743719       0.590164  0.000000  0.500745  0.483333      1.0\n",
              "1  0.427136       0.540984  0.000000  0.396423  0.166667      0.0\n",
              "2  0.919598       0.524590  0.000000  0.347243  0.183333      1.0\n",
              "3  0.447236       0.540984  0.111111  0.418778  0.000000      0.0\n",
              "4  0.688442       0.327869  0.198582  0.642325  0.200000      1.0"
            ],
            "text/html": [
              "\n",
              "  <div id=\"df-4093a955-fd58-484b-abeb-4995097b2a97\">\n",
              "    <div class=\"colab-df-container\">\n",
              "      <div>\n",
              "<style scoped>\n",
              "    .dataframe tbody tr th:only-of-type {\n",
              "        vertical-align: middle;\n",
              "    }\n",
              "\n",
              "    .dataframe tbody tr th {\n",
              "        vertical-align: top;\n",
              "    }\n",
              "\n",
              "    .dataframe thead th {\n",
              "        text-align: right;\n",
              "    }\n",
              "</style>\n",
              "<table border=\"1\" class=\"dataframe\">\n",
              "  <thead>\n",
              "    <tr style=\"text-align: right;\">\n",
              "      <th></th>\n",
              "      <th>Glucose</th>\n",
              "      <th>BloodPressure</th>\n",
              "      <th>Insulin</th>\n",
              "      <th>BMI</th>\n",
              "      <th>Age</th>\n",
              "      <th>Outcome</th>\n",
              "    </tr>\n",
              "  </thead>\n",
              "  <tbody>\n",
              "    <tr>\n",
              "      <th>0</th>\n",
              "      <td>0.743719</td>\n",
              "      <td>0.590164</td>\n",
              "      <td>0.000000</td>\n",
              "      <td>0.500745</td>\n",
              "      <td>0.483333</td>\n",
              "      <td>1.0</td>\n",
              "    </tr>\n",
              "    <tr>\n",
              "      <th>1</th>\n",
              "      <td>0.427136</td>\n",
              "      <td>0.540984</td>\n",
              "      <td>0.000000</td>\n",
              "      <td>0.396423</td>\n",
              "      <td>0.166667</td>\n",
              "      <td>0.0</td>\n",
              "    </tr>\n",
              "    <tr>\n",
              "      <th>2</th>\n",
              "      <td>0.919598</td>\n",
              "      <td>0.524590</td>\n",
              "      <td>0.000000</td>\n",
              "      <td>0.347243</td>\n",
              "      <td>0.183333</td>\n",
              "      <td>1.0</td>\n",
              "    </tr>\n",
              "    <tr>\n",
              "      <th>3</th>\n",
              "      <td>0.447236</td>\n",
              "      <td>0.540984</td>\n",
              "      <td>0.111111</td>\n",
              "      <td>0.418778</td>\n",
              "      <td>0.000000</td>\n",
              "      <td>0.0</td>\n",
              "    </tr>\n",
              "    <tr>\n",
              "      <th>4</th>\n",
              "      <td>0.688442</td>\n",
              "      <td>0.327869</td>\n",
              "      <td>0.198582</td>\n",
              "      <td>0.642325</td>\n",
              "      <td>0.200000</td>\n",
              "      <td>1.0</td>\n",
              "    </tr>\n",
              "  </tbody>\n",
              "</table>\n",
              "</div>\n",
              "      <button class=\"colab-df-convert\" onclick=\"convertToInteractive('df-4093a955-fd58-484b-abeb-4995097b2a97')\"\n",
              "              title=\"Convert this dataframe to an interactive table.\"\n",
              "              style=\"display:none;\">\n",
              "        \n",
              "  <svg xmlns=\"http://www.w3.org/2000/svg\" height=\"24px\"viewBox=\"0 0 24 24\"\n",
              "       width=\"24px\">\n",
              "    <path d=\"M0 0h24v24H0V0z\" fill=\"none\"/>\n",
              "    <path d=\"M18.56 5.44l.94 2.06.94-2.06 2.06-.94-2.06-.94-.94-2.06-.94 2.06-2.06.94zm-11 1L8.5 8.5l.94-2.06 2.06-.94-2.06-.94L8.5 2.5l-.94 2.06-2.06.94zm10 10l.94 2.06.94-2.06 2.06-.94-2.06-.94-.94-2.06-.94 2.06-2.06.94z\"/><path d=\"M17.41 7.96l-1.37-1.37c-.4-.4-.92-.59-1.43-.59-.52 0-1.04.2-1.43.59L10.3 9.45l-7.72 7.72c-.78.78-.78 2.05 0 2.83L4 21.41c.39.39.9.59 1.41.59.51 0 1.02-.2 1.41-.59l7.78-7.78 2.81-2.81c.8-.78.8-2.07 0-2.86zM5.41 20L4 18.59l7.72-7.72 1.47 1.35L5.41 20z\"/>\n",
              "  </svg>\n",
              "      </button>\n",
              "      \n",
              "  <style>\n",
              "    .colab-df-container {\n",
              "      display:flex;\n",
              "      flex-wrap:wrap;\n",
              "      gap: 12px;\n",
              "    }\n",
              "\n",
              "    .colab-df-convert {\n",
              "      background-color: #E8F0FE;\n",
              "      border: none;\n",
              "      border-radius: 50%;\n",
              "      cursor: pointer;\n",
              "      display: none;\n",
              "      fill: #1967D2;\n",
              "      height: 32px;\n",
              "      padding: 0 0 0 0;\n",
              "      width: 32px;\n",
              "    }\n",
              "\n",
              "    .colab-df-convert:hover {\n",
              "      background-color: #E2EBFA;\n",
              "      box-shadow: 0px 1px 2px rgba(60, 64, 67, 0.3), 0px 1px 3px 1px rgba(60, 64, 67, 0.15);\n",
              "      fill: #174EA6;\n",
              "    }\n",
              "\n",
              "    [theme=dark] .colab-df-convert {\n",
              "      background-color: #3B4455;\n",
              "      fill: #D2E3FC;\n",
              "    }\n",
              "\n",
              "    [theme=dark] .colab-df-convert:hover {\n",
              "      background-color: #434B5C;\n",
              "      box-shadow: 0px 1px 3px 1px rgba(0, 0, 0, 0.15);\n",
              "      filter: drop-shadow(0px 1px 2px rgba(0, 0, 0, 0.3));\n",
              "      fill: #FFFFFF;\n",
              "    }\n",
              "  </style>\n",
              "\n",
              "      <script>\n",
              "        const buttonEl =\n",
              "          document.querySelector('#df-4093a955-fd58-484b-abeb-4995097b2a97 button.colab-df-convert');\n",
              "        buttonEl.style.display =\n",
              "          google.colab.kernel.accessAllowed ? 'block' : 'none';\n",
              "\n",
              "        async function convertToInteractive(key) {\n",
              "          const element = document.querySelector('#df-4093a955-fd58-484b-abeb-4995097b2a97');\n",
              "          const dataTable =\n",
              "            await google.colab.kernel.invokeFunction('convertToInteractive',\n",
              "                                                     [key], {});\n",
              "          if (!dataTable) return;\n",
              "\n",
              "          const docLinkHtml = 'Like what you see? Visit the ' +\n",
              "            '<a target=\"_blank\" href=https://colab.research.google.com/notebooks/data_table.ipynb>data table notebook</a>'\n",
              "            + ' to learn more about interactive tables.';\n",
              "          element.innerHTML = '';\n",
              "          dataTable['output_type'] = 'display_data';\n",
              "          await google.colab.output.renderOutput(dataTable, element);\n",
              "          const docLink = document.createElement('div');\n",
              "          docLink.innerHTML = docLinkHtml;\n",
              "          element.appendChild(docLink);\n",
              "        }\n",
              "      </script>\n",
              "    </div>\n",
              "  </div>\n",
              "  "
            ]
          },
          "metadata": {},
          "execution_count": 14
        }
      ]
    },
    {
      "cell_type": "code",
      "source": [
        "lis = ['Glucose','BloodPressure','Insulin','BMI','Age']\n",
        "def standartization(x):\n",
        "    x_std = x.copy(deep=True)\n",
        "    for column in lis:\n",
        "        x_std[column] = (x_std[column] - x_std[column].mean()) / x_std[column].std() \n",
        "    return x_std\n",
        "\n",
        "data = standartization(data)\n",
        "data.head()"
      ],
      "metadata": {
        "colab": {
          "base_uri": "https://localhost:8080/",
          "height": 206
        },
        "id": "cPGdNoE3tdsO",
        "outputId": "d9332068-64c3-41f2-b8b4-cd7155bce3e3"
      },
      "execution_count": null,
      "outputs": [
        {
          "output_type": "execute_result",
          "data": {
            "text/plain": [
              "    Glucose  BloodPressure   Insulin       BMI       Age  Outcome\n",
              "0  0.847771       0.149543 -0.692439  0.203880  1.425067        1\n",
              "1 -1.122665      -0.160441 -0.692439 -0.683976 -0.190548        0\n",
              "2  1.942458      -0.263769 -0.692439 -1.102537 -0.105515        1\n",
              "3 -0.997558      -0.160441  0.123221 -0.493721 -1.040871        0\n",
              "4  0.503727      -1.503707  0.765337  1.408828 -0.020483        1"
            ],
            "text/html": [
              "\n",
              "  <div id=\"df-1dadab13-b266-4e43-80d4-2fff29b11b19\">\n",
              "    <div class=\"colab-df-container\">\n",
              "      <div>\n",
              "<style scoped>\n",
              "    .dataframe tbody tr th:only-of-type {\n",
              "        vertical-align: middle;\n",
              "    }\n",
              "\n",
              "    .dataframe tbody tr th {\n",
              "        vertical-align: top;\n",
              "    }\n",
              "\n",
              "    .dataframe thead th {\n",
              "        text-align: right;\n",
              "    }\n",
              "</style>\n",
              "<table border=\"1\" class=\"dataframe\">\n",
              "  <thead>\n",
              "    <tr style=\"text-align: right;\">\n",
              "      <th></th>\n",
              "      <th>Glucose</th>\n",
              "      <th>BloodPressure</th>\n",
              "      <th>Insulin</th>\n",
              "      <th>BMI</th>\n",
              "      <th>Age</th>\n",
              "      <th>Outcome</th>\n",
              "    </tr>\n",
              "  </thead>\n",
              "  <tbody>\n",
              "    <tr>\n",
              "      <th>0</th>\n",
              "      <td>0.847771</td>\n",
              "      <td>0.149543</td>\n",
              "      <td>-0.692439</td>\n",
              "      <td>0.203880</td>\n",
              "      <td>1.425067</td>\n",
              "      <td>1</td>\n",
              "    </tr>\n",
              "    <tr>\n",
              "      <th>1</th>\n",
              "      <td>-1.122665</td>\n",
              "      <td>-0.160441</td>\n",
              "      <td>-0.692439</td>\n",
              "      <td>-0.683976</td>\n",
              "      <td>-0.190548</td>\n",
              "      <td>0</td>\n",
              "    </tr>\n",
              "    <tr>\n",
              "      <th>2</th>\n",
              "      <td>1.942458</td>\n",
              "      <td>-0.263769</td>\n",
              "      <td>-0.692439</td>\n",
              "      <td>-1.102537</td>\n",
              "      <td>-0.105515</td>\n",
              "      <td>1</td>\n",
              "    </tr>\n",
              "    <tr>\n",
              "      <th>3</th>\n",
              "      <td>-0.997558</td>\n",
              "      <td>-0.160441</td>\n",
              "      <td>0.123221</td>\n",
              "      <td>-0.493721</td>\n",
              "      <td>-1.040871</td>\n",
              "      <td>0</td>\n",
              "    </tr>\n",
              "    <tr>\n",
              "      <th>4</th>\n",
              "      <td>0.503727</td>\n",
              "      <td>-1.503707</td>\n",
              "      <td>0.765337</td>\n",
              "      <td>1.408828</td>\n",
              "      <td>-0.020483</td>\n",
              "      <td>1</td>\n",
              "    </tr>\n",
              "  </tbody>\n",
              "</table>\n",
              "</div>\n",
              "      <button class=\"colab-df-convert\" onclick=\"convertToInteractive('df-1dadab13-b266-4e43-80d4-2fff29b11b19')\"\n",
              "              title=\"Convert this dataframe to an interactive table.\"\n",
              "              style=\"display:none;\">\n",
              "        \n",
              "  <svg xmlns=\"http://www.w3.org/2000/svg\" height=\"24px\"viewBox=\"0 0 24 24\"\n",
              "       width=\"24px\">\n",
              "    <path d=\"M0 0h24v24H0V0z\" fill=\"none\"/>\n",
              "    <path d=\"M18.56 5.44l.94 2.06.94-2.06 2.06-.94-2.06-.94-.94-2.06-.94 2.06-2.06.94zm-11 1L8.5 8.5l.94-2.06 2.06-.94-2.06-.94L8.5 2.5l-.94 2.06-2.06.94zm10 10l.94 2.06.94-2.06 2.06-.94-2.06-.94-.94-2.06-.94 2.06-2.06.94z\"/><path d=\"M17.41 7.96l-1.37-1.37c-.4-.4-.92-.59-1.43-.59-.52 0-1.04.2-1.43.59L10.3 9.45l-7.72 7.72c-.78.78-.78 2.05 0 2.83L4 21.41c.39.39.9.59 1.41.59.51 0 1.02-.2 1.41-.59l7.78-7.78 2.81-2.81c.8-.78.8-2.07 0-2.86zM5.41 20L4 18.59l7.72-7.72 1.47 1.35L5.41 20z\"/>\n",
              "  </svg>\n",
              "      </button>\n",
              "      \n",
              "  <style>\n",
              "    .colab-df-container {\n",
              "      display:flex;\n",
              "      flex-wrap:wrap;\n",
              "      gap: 12px;\n",
              "    }\n",
              "\n",
              "    .colab-df-convert {\n",
              "      background-color: #E8F0FE;\n",
              "      border: none;\n",
              "      border-radius: 50%;\n",
              "      cursor: pointer;\n",
              "      display: none;\n",
              "      fill: #1967D2;\n",
              "      height: 32px;\n",
              "      padding: 0 0 0 0;\n",
              "      width: 32px;\n",
              "    }\n",
              "\n",
              "    .colab-df-convert:hover {\n",
              "      background-color: #E2EBFA;\n",
              "      box-shadow: 0px 1px 2px rgba(60, 64, 67, 0.3), 0px 1px 3px 1px rgba(60, 64, 67, 0.15);\n",
              "      fill: #174EA6;\n",
              "    }\n",
              "\n",
              "    [theme=dark] .colab-df-convert {\n",
              "      background-color: #3B4455;\n",
              "      fill: #D2E3FC;\n",
              "    }\n",
              "\n",
              "    [theme=dark] .colab-df-convert:hover {\n",
              "      background-color: #434B5C;\n",
              "      box-shadow: 0px 1px 3px 1px rgba(0, 0, 0, 0.15);\n",
              "      filter: drop-shadow(0px 1px 2px rgba(0, 0, 0, 0.3));\n",
              "      fill: #FFFFFF;\n",
              "    }\n",
              "  </style>\n",
              "\n",
              "      <script>\n",
              "        const buttonEl =\n",
              "          document.querySelector('#df-1dadab13-b266-4e43-80d4-2fff29b11b19 button.colab-df-convert');\n",
              "        buttonEl.style.display =\n",
              "          google.colab.kernel.accessAllowed ? 'block' : 'none';\n",
              "\n",
              "        async function convertToInteractive(key) {\n",
              "          const element = document.querySelector('#df-1dadab13-b266-4e43-80d4-2fff29b11b19');\n",
              "          const dataTable =\n",
              "            await google.colab.kernel.invokeFunction('convertToInteractive',\n",
              "                                                     [key], {});\n",
              "          if (!dataTable) return;\n",
              "\n",
              "          const docLinkHtml = 'Like what you see? Visit the ' +\n",
              "            '<a target=\"_blank\" href=https://colab.research.google.com/notebooks/data_table.ipynb>data table notebook</a>'\n",
              "            + ' to learn more about interactive tables.';\n",
              "          element.innerHTML = '';\n",
              "          dataTable['output_type'] = 'display_data';\n",
              "          await google.colab.output.renderOutput(dataTable, element);\n",
              "          const docLink = document.createElement('div');\n",
              "          docLink.innerHTML = docLinkHtml;\n",
              "          element.appendChild(docLink);\n",
              "        }\n",
              "      </script>\n",
              "    </div>\n",
              "  </div>\n",
              "  "
            ]
          },
          "metadata": {},
          "execution_count": 19
        }
      ]
    },
    {
      "cell_type": "code",
      "source": [
        "data.info()"
      ],
      "metadata": {
        "colab": {
          "base_uri": "https://localhost:8080/"
        },
        "id": "ndT2CVemttvV",
        "outputId": "6e5d4473-5fd0-4e6b-9f6b-43470ddf7193"
      },
      "execution_count": null,
      "outputs": [
        {
          "output_type": "stream",
          "name": "stdout",
          "text": [
            "<class 'pandas.core.frame.DataFrame'>\n",
            "Int64Index: 768 entries, 0 to 767\n",
            "Data columns (total 6 columns):\n",
            " #   Column         Non-Null Count  Dtype  \n",
            "---  ------         --------------  -----  \n",
            " 0   Glucose        768 non-null    float64\n",
            " 1   BloodPressure  768 non-null    float64\n",
            " 2   Insulin        768 non-null    float64\n",
            " 3   BMI            768 non-null    float64\n",
            " 4   Age            768 non-null    float64\n",
            " 5   Outcome        768 non-null    int64  \n",
            "dtypes: float64(5), int64(1)\n",
            "memory usage: 42.0 KB\n"
          ]
        }
      ]
    },
    {
      "cell_type": "code",
      "source": [
        "data['Outcome'].value_counts()"
      ],
      "metadata": {
        "colab": {
          "base_uri": "https://localhost:8080/"
        },
        "id": "0nF0RXbOt-fc",
        "outputId": "149db885-db92-4c7e-9f55-63303a9d027b"
      },
      "execution_count": null,
      "outputs": [
        {
          "output_type": "execute_result",
          "data": {
            "text/plain": [
              "0    500\n",
              "1    268\n",
              "Name: Outcome, dtype: int64"
            ]
          },
          "metadata": {},
          "execution_count": 21
        }
      ]
    },
    {
      "cell_type": "code",
      "source": [
        "y=data['Outcome']\n",
        "x=data.drop(['Outcome'],axis=1)"
      ],
      "metadata": {
        "id": "OEGp5eSnuNo8"
      },
      "execution_count": null,
      "outputs": []
    },
    {
      "cell_type": "code",
      "source": [
        "yn=data_norm['Outcome']\n",
        "xn=data_norm.drop(['Outcome'],axis=1)"
      ],
      "metadata": {
        "id": "wNZ-doQzuQ9m"
      },
      "execution_count": null,
      "outputs": []
    },
    {
      "cell_type": "markdown",
      "source": [
        "I am creating separate train and test sets for standardised and normalised data. the ones having n as suffix are normalised."
      ],
      "metadata": {
        "id": "1SOPVxBSuan0"
      }
    },
    {
      "cell_type": "code",
      "source": [
        "xtrain,xtest,ytrain,ytest= train_test_split(x,y,test_size=0.15,stratify=y)\n",
        "print(\"Xtrain :- \" + str(xtrain.shape) + \"\\n\" + \"Xtest :- \" + str(xtest.shape) + \"\\n\" + \"Ytrain :- \" + str(ytrain.shape) + \"\\n\" + \"Ytest :- \" + str(ytest.shape))"
      ],
      "metadata": {
        "colab": {
          "base_uri": "https://localhost:8080/"
        },
        "id": "zTQ7NUyfucoU",
        "outputId": "52e5dc35-fb40-4f56-dacd-55d987baa2d7"
      },
      "execution_count": null,
      "outputs": [
        {
          "output_type": "stream",
          "name": "stdout",
          "text": [
            "Xtrain :- (652, 5)\n",
            "Xtest :- (116, 5)\n",
            "Ytrain :- (652,)\n",
            "Ytest :- (116,)\n"
          ]
        }
      ]
    },
    {
      "cell_type": "code",
      "source": [
        "xntrain,xntest,yntrain,yntest= train_test_split(xn,yn,test_size=0.15,stratify=y)\n",
        "print(\"Xntrain :- \" + str(xntrain.shape) + \"\\n\" + \"Xntest :- \" + str(xntest.shape) + \"\\n\" + \"Yntrain :- \" + str(yntrain.shape) + \"\\n\" + \"Yntest :- \" + str(yntest.shape))"
      ],
      "metadata": {
        "colab": {
          "base_uri": "https://localhost:8080/"
        },
        "id": "uUviit72vI7E",
        "outputId": "ae0b91c3-b692-462d-ba02-fafa5afc63c2"
      },
      "execution_count": null,
      "outputs": [
        {
          "output_type": "stream",
          "name": "stdout",
          "text": [
            "Xntrain :- (652, 5)\n",
            "Xntest :- (116, 5)\n",
            "Yntrain :- (652,)\n",
            "Yntest :- (116,)\n"
          ]
        }
      ]
    },
    {
      "cell_type": "code",
      "source": [
        "model = Sequential()\n",
        "model.add(Dense(256,activation='relu',input_shape=([5])))\n",
        "model.add(Dense(256,activation='relu'))\n",
        "model.add(Dense(1,activation='sigmoid'))\n",
        "model.summary()\n",
        "model.compile(optimizer='adam',loss='binary_crossentropy',metrics=['accuracy'])"
      ],
      "metadata": {
        "colab": {
          "base_uri": "https://localhost:8080/"
        },
        "id": "ihhsDsqr7TLl",
        "outputId": "b1299b24-e0a1-46c7-8260-aeb684ad35bf"
      },
      "execution_count": null,
      "outputs": [
        {
          "output_type": "stream",
          "name": "stdout",
          "text": [
            "Model: \"sequential_2\"\n",
            "_________________________________________________________________\n",
            " Layer (type)                Output Shape              Param #   \n",
            "=================================================================\n",
            " dense_6 (Dense)             (None, 256)               1536      \n",
            "                                                                 \n",
            " dense_7 (Dense)             (None, 256)               65792     \n",
            "                                                                 \n",
            " dense_8 (Dense)             (None, 1)                 257       \n",
            "                                                                 \n",
            "=================================================================\n",
            "Total params: 67,585\n",
            "Trainable params: 67,585\n",
            "Non-trainable params: 0\n",
            "_________________________________________________________________\n"
          ]
        }
      ]
    },
    {
      "cell_type": "code",
      "source": [
        "ytest"
      ],
      "metadata": {
        "colab": {
          "base_uri": "https://localhost:8080/"
        },
        "id": "4d5wc-GI7YmF",
        "outputId": "5247c554-c30e-4482-cbca-00cf0802d815"
      },
      "execution_count": null,
      "outputs": [
        {
          "output_type": "execute_result",
          "data": {
            "text/plain": [
              "553    0\n",
              "748    1\n",
              "179    1\n",
              "275    0\n",
              "291    1\n",
              "      ..\n",
              "267    0\n",
              "543    0\n",
              "488    0\n",
              "53     1\n",
              "728    0\n",
              "Name: Outcome, Length: 116, dtype: int64"
            ]
          },
          "metadata": {},
          "execution_count": 34
        }
      ]
    },
    {
      "cell_type": "code",
      "source": [
        "nepochs = 50\n",
        "history = model.fit(xtrain ,\n",
        "                    ytrain ,\n",
        "                    epochs= nepochs ,\n",
        "                    steps_per_epoch=200,\n",
        "                    validation_data=(xtest ,ytest))"
      ],
      "metadata": {
        "colab": {
          "base_uri": "https://localhost:8080/"
        },
        "id": "KHL7zIOm7eGs",
        "outputId": "98763783-8255-4b0a-fcb8-b2ff072b4e61"
      },
      "execution_count": null,
      "outputs": [
        {
          "output_type": "stream",
          "name": "stdout",
          "text": [
            "Epoch 1/50\n",
            "200/200 [==============================] - 2s 5ms/step - loss: 0.5221 - accuracy: 0.7425 - val_loss: 0.4799 - val_accuracy: 0.7414\n",
            "Epoch 2/50\n",
            "200/200 [==============================] - 1s 3ms/step - loss: 0.4544 - accuracy: 0.7812 - val_loss: 0.4557 - val_accuracy: 0.7672\n",
            "Epoch 3/50\n",
            "200/200 [==============================] - 1s 3ms/step - loss: 0.4737 - accuracy: 0.7700 - val_loss: 0.4750 - val_accuracy: 0.7414\n",
            "Epoch 4/50\n",
            "200/200 [==============================] - 1s 3ms/step - loss: 0.4723 - accuracy: 0.7862 - val_loss: 0.4609 - val_accuracy: 0.7586\n",
            "Epoch 5/50\n",
            "200/200 [==============================] - 1s 3ms/step - loss: 0.4584 - accuracy: 0.7962 - val_loss: 0.4658 - val_accuracy: 0.7586\n",
            "Epoch 6/50\n",
            "200/200 [==============================] - 1s 3ms/step - loss: 0.4695 - accuracy: 0.7738 - val_loss: 0.4828 - val_accuracy: 0.7500\n",
            "Epoch 7/50\n",
            "200/200 [==============================] - 1s 3ms/step - loss: 0.4488 - accuracy: 0.7950 - val_loss: 0.4794 - val_accuracy: 0.7328\n",
            "Epoch 8/50\n",
            "200/200 [==============================] - 1s 3ms/step - loss: 0.4267 - accuracy: 0.8062 - val_loss: 0.5239 - val_accuracy: 0.7500\n",
            "Epoch 9/50\n",
            "200/200 [==============================] - 1s 3ms/step - loss: 0.4683 - accuracy: 0.7800 - val_loss: 0.4773 - val_accuracy: 0.7759\n",
            "Epoch 10/50\n",
            "200/200 [==============================] - 1s 3ms/step - loss: 0.4386 - accuracy: 0.7950 - val_loss: 0.4704 - val_accuracy: 0.7759\n",
            "Epoch 11/50\n",
            "200/200 [==============================] - 1s 3ms/step - loss: 0.4338 - accuracy: 0.8150 - val_loss: 0.4835 - val_accuracy: 0.7845\n",
            "Epoch 12/50\n",
            "200/200 [==============================] - 1s 3ms/step - loss: 0.4230 - accuracy: 0.7925 - val_loss: 0.4996 - val_accuracy: 0.7586\n",
            "Epoch 13/50\n",
            "200/200 [==============================] - 1s 3ms/step - loss: 0.4174 - accuracy: 0.8050 - val_loss: 0.4941 - val_accuracy: 0.7500\n",
            "Epoch 14/50\n",
            "200/200 [==============================] - 1s 3ms/step - loss: 0.4155 - accuracy: 0.8138 - val_loss: 0.5093 - val_accuracy: 0.7759\n",
            "Epoch 15/50\n",
            "200/200 [==============================] - 1s 3ms/step - loss: 0.4158 - accuracy: 0.8112 - val_loss: 0.5015 - val_accuracy: 0.7586\n",
            "Epoch 16/50\n",
            "200/200 [==============================] - 1s 3ms/step - loss: 0.4184 - accuracy: 0.8075 - val_loss: 0.5147 - val_accuracy: 0.7759\n",
            "Epoch 17/50\n",
            "200/200 [==============================] - 1s 3ms/step - loss: 0.4078 - accuracy: 0.8125 - val_loss: 0.5268 - val_accuracy: 0.7586\n",
            "Epoch 18/50\n",
            "200/200 [==============================] - 1s 3ms/step - loss: 0.3883 - accuracy: 0.8213 - val_loss: 0.5371 - val_accuracy: 0.7500\n",
            "Epoch 19/50\n",
            "200/200 [==============================] - 1s 3ms/step - loss: 0.3950 - accuracy: 0.8288 - val_loss: 0.5295 - val_accuracy: 0.7500\n",
            "Epoch 20/50\n",
            "200/200 [==============================] - 1s 3ms/step - loss: 0.3804 - accuracy: 0.8200 - val_loss: 0.5736 - val_accuracy: 0.7241\n",
            "Epoch 21/50\n",
            "200/200 [==============================] - 1s 3ms/step - loss: 0.3628 - accuracy: 0.8400 - val_loss: 0.5632 - val_accuracy: 0.7414\n",
            "Epoch 22/50\n",
            "200/200 [==============================] - 1s 3ms/step - loss: 0.3798 - accuracy: 0.8250 - val_loss: 0.5170 - val_accuracy: 0.7500\n",
            "Epoch 23/50\n",
            "200/200 [==============================] - 1s 3ms/step - loss: 0.3604 - accuracy: 0.8462 - val_loss: 0.5398 - val_accuracy: 0.7586\n",
            "Epoch 24/50\n",
            "200/200 [==============================] - 1s 3ms/step - loss: 0.3527 - accuracy: 0.8550 - val_loss: 0.5792 - val_accuracy: 0.7500\n",
            "Epoch 25/50\n",
            "200/200 [==============================] - 1s 3ms/step - loss: 0.3738 - accuracy: 0.8150 - val_loss: 0.6106 - val_accuracy: 0.7500\n",
            "Epoch 26/50\n",
            "200/200 [==============================] - 1s 3ms/step - loss: 0.3470 - accuracy: 0.8462 - val_loss: 0.5910 - val_accuracy: 0.7414\n",
            "Epoch 27/50\n",
            "200/200 [==============================] - 1s 3ms/step - loss: 0.3376 - accuracy: 0.8487 - val_loss: 0.6260 - val_accuracy: 0.7069\n",
            "Epoch 28/50\n",
            "200/200 [==============================] - 1s 3ms/step - loss: 0.3439 - accuracy: 0.8475 - val_loss: 0.6519 - val_accuracy: 0.7328\n",
            "Epoch 29/50\n",
            "200/200 [==============================] - 1s 3ms/step - loss: 0.3277 - accuracy: 0.8438 - val_loss: 0.6672 - val_accuracy: 0.7241\n",
            "Epoch 30/50\n",
            "200/200 [==============================] - 1s 3ms/step - loss: 0.3126 - accuracy: 0.8637 - val_loss: 0.6459 - val_accuracy: 0.7328\n",
            "Epoch 31/50\n",
            "200/200 [==============================] - 1s 3ms/step - loss: 0.3295 - accuracy: 0.8450 - val_loss: 0.6614 - val_accuracy: 0.7328\n",
            "Epoch 32/50\n",
            "200/200 [==============================] - 1s 3ms/step - loss: 0.3129 - accuracy: 0.8487 - val_loss: 0.6529 - val_accuracy: 0.7241\n",
            "Epoch 33/50\n",
            "200/200 [==============================] - 1s 3ms/step - loss: 0.3119 - accuracy: 0.8587 - val_loss: 0.6706 - val_accuracy: 0.7328\n",
            "Epoch 34/50\n",
            "200/200 [==============================] - 1s 3ms/step - loss: 0.2923 - accuracy: 0.8737 - val_loss: 0.6826 - val_accuracy: 0.7328\n",
            "Epoch 35/50\n",
            "200/200 [==============================] - 1s 3ms/step - loss: 0.3037 - accuracy: 0.8550 - val_loss: 0.7574 - val_accuracy: 0.7069\n",
            "Epoch 36/50\n",
            "200/200 [==============================] - 1s 3ms/step - loss: 0.2755 - accuracy: 0.8850 - val_loss: 0.7300 - val_accuracy: 0.6983\n",
            "Epoch 37/50\n",
            "200/200 [==============================] - 1s 3ms/step - loss: 0.2818 - accuracy: 0.8838 - val_loss: 0.7910 - val_accuracy: 0.7155\n",
            "Epoch 38/50\n",
            "200/200 [==============================] - 1s 3ms/step - loss: 0.2754 - accuracy: 0.8913 - val_loss: 0.7598 - val_accuracy: 0.7328\n",
            "Epoch 39/50\n",
            "200/200 [==============================] - 1s 3ms/step - loss: 0.2650 - accuracy: 0.8825 - val_loss: 0.7897 - val_accuracy: 0.7241\n",
            "Epoch 40/50\n",
            "200/200 [==============================] - 1s 3ms/step - loss: 0.2782 - accuracy: 0.8800 - val_loss: 0.7763 - val_accuracy: 0.7155\n",
            "Epoch 41/50\n",
            "140/200 [====================>.........] - ETA: 0s - loss: 0.2636 - accuracy: 0.8964"
          ]
        },
        {
          "output_type": "stream",
          "name": "stderr",
          "text": [
            "WARNING:tensorflow:Your input ran out of data; interrupting training. Make sure that your dataset or generator can generate at least `steps_per_epoch * epochs` batches (in this case, 10000 batches). You may need to use the repeat() function when building your dataset.\n"
          ]
        },
        {
          "output_type": "stream",
          "name": "stdout",
          "text": [
            "\b\b\b\b\b\b\b\b\b\b\b\b\b\b\b\b\b\b\b\b\b\b\b\b\b\b\b\b\b\b\b\b\b\b\b\b\b\b\b\b\b\b\b\b\b\b\b\b\b\b\b\b\b\b\b\b\b\b\b\b\b\b\b\b\b\b\b\b\b\b\b\b\b\b\b\b\b\b\b\b\b\b\b\b\r200/200 [==============================] - 0s 2ms/step - loss: 0.2628 - accuracy: 0.8950 - val_loss: 0.8594 - val_accuracy: 0.6810\n"
          ]
        }
      ]
    },
    {
      "cell_type": "code",
      "source": [
        "model.evaluate(xtrain,ytrain)"
      ],
      "metadata": {
        "colab": {
          "base_uri": "https://localhost:8080/"
        },
        "id": "WVeTctvY9gLy",
        "outputId": "d64cea98-10a0-4170-bcd2-19379f9bd63e"
      },
      "execution_count": null,
      "outputs": [
        {
          "output_type": "stream",
          "name": "stdout",
          "text": [
            "21/21 [==============================] - 0s 2ms/step - loss: 0.2231 - accuracy: 0.9202\n"
          ]
        },
        {
          "output_type": "execute_result",
          "data": {
            "text/plain": [
              "[0.22312723100185394, 0.9202454090118408]"
            ]
          },
          "metadata": {},
          "execution_count": 36
        }
      ]
    },
    {
      "cell_type": "code",
      "source": [
        "model.evaluate(xtest,ytest)"
      ],
      "metadata": {
        "colab": {
          "base_uri": "https://localhost:8080/"
        },
        "id": "DQNDjyk39qaK",
        "outputId": "012b084b-16d8-43a1-fddd-64041f8b7736"
      },
      "execution_count": null,
      "outputs": [
        {
          "output_type": "stream",
          "name": "stdout",
          "text": [
            "4/4 [==============================] - 0s 4ms/step - loss: 0.8594 - accuracy: 0.6810\n"
          ]
        },
        {
          "output_type": "execute_result",
          "data": {
            "text/plain": [
              "[0.8594118356704712, 0.681034505367279]"
            ]
          },
          "metadata": {},
          "execution_count": 38
        }
      ]
    },
    {
      "cell_type": "markdown",
      "source": [
        "As you can see, the ANN produced 68% test accuracy which is way less than SVM. Hence we can say that the ML algorithm produced well than that of DL algorithm. Can we stop with this conclusion or are we missing something??"
      ],
      "metadata": {
        "id": "HsZ4fV_69yZD"
      }
    },
    {
      "cell_type": "code",
      "source": [
        "print(data['Outcome'].value_counts())\n",
        "df_class_0 = data[data['Outcome'] == 0]\n",
        "df_class_1 = data[data['Outcome'] == 1]"
      ],
      "metadata": {
        "colab": {
          "base_uri": "https://localhost:8080/"
        },
        "id": "9q5PnRBg9zlN",
        "outputId": "7260efc3-8001-4e26-d78e-3577f2d7ec2b"
      },
      "execution_count": null,
      "outputs": [
        {
          "output_type": "stream",
          "name": "stdout",
          "text": [
            "0    500\n",
            "1    268\n",
            "Name: Outcome, dtype: int64\n"
          ]
        }
      ]
    },
    {
      "cell_type": "markdown",
      "source": [
        "As you can see, there is class imbalance, the amount of diabetes negative is twice than that of diabetes positive. In this scenario, we cant compare the performance of algorithms based on accuracy. So to overcome the class imbalance I oversampled the minority class to the samples of majority class (500). So the total data consits of 1000 samples with equal distribution. I repeated this process for the standardised and normalized datasets.\n"
      ],
      "metadata": {
        "id": "zs3BcHaP-B81"
      }
    },
    {
      "cell_type": "markdown",
      "source": [
        "There isn't much change in the accuracy of the algorithm but there is huge improvement in the classification report before and after sampling, especially for the diabetes class."
      ],
      "metadata": {
        "id": "hlOKSFI5-q57"
      }
    },
    {
      "cell_type": "code",
      "source": [
        "nepochs = 50\n",
        "history = model.fit(xntrain ,\n",
        "                    yntrain ,\n",
        "                    epochs= nepochs ,\n",
        "                    steps_per_epoch=200,\n",
        "                    validation_data=(xntest ,yntest))"
      ],
      "metadata": {
        "colab": {
          "base_uri": "https://localhost:8080/"
        },
        "id": "zA3F0Rv57gAE",
        "outputId": "7f5c6666-40d7-4fa1-bf40-f709fef05a1e"
      },
      "execution_count": null,
      "outputs": [
        {
          "output_type": "stream",
          "name": "stdout",
          "text": [
            "Epoch 1/50\n",
            "200/200 [==============================] - 1s 3ms/step - loss: 0.3037 - accuracy: 0.8537 - val_loss: 0.6812 - val_accuracy: 0.7414\n",
            "Epoch 2/50\n",
            "200/200 [==============================] - 1s 3ms/step - loss: 0.3069 - accuracy: 0.8612 - val_loss: 0.6141 - val_accuracy: 0.7759\n",
            "Epoch 3/50\n",
            "200/200 [==============================] - 1s 3ms/step - loss: 0.2851 - accuracy: 0.8600 - val_loss: 0.6226 - val_accuracy: 0.7672\n",
            "Epoch 4/50\n",
            "200/200 [==============================] - 1s 3ms/step - loss: 0.2973 - accuracy: 0.8625 - val_loss: 0.6563 - val_accuracy: 0.7672\n",
            "Epoch 5/50\n",
            "200/200 [==============================] - 1s 3ms/step - loss: 0.3093 - accuracy: 0.8550 - val_loss: 0.6360 - val_accuracy: 0.7845\n",
            "Epoch 6/50\n",
            "200/200 [==============================] - 1s 3ms/step - loss: 0.2850 - accuracy: 0.8600 - val_loss: 0.6423 - val_accuracy: 0.7586\n",
            "Epoch 7/50\n",
            "200/200 [==============================] - 1s 3ms/step - loss: 0.2837 - accuracy: 0.8650 - val_loss: 0.7115 - val_accuracy: 0.7759\n",
            "Epoch 8/50\n",
            "200/200 [==============================] - 1s 3ms/step - loss: 0.3124 - accuracy: 0.8625 - val_loss: 0.6260 - val_accuracy: 0.7759\n",
            "Epoch 9/50\n",
            "200/200 [==============================] - 1s 4ms/step - loss: 0.2848 - accuracy: 0.8600 - val_loss: 0.6260 - val_accuracy: 0.8017\n",
            "Epoch 10/50\n",
            "200/200 [==============================] - 1s 4ms/step - loss: 0.2845 - accuracy: 0.8700 - val_loss: 0.6339 - val_accuracy: 0.7759\n",
            "Epoch 11/50\n",
            "200/200 [==============================] - 1s 4ms/step - loss: 0.2919 - accuracy: 0.8650 - val_loss: 0.6547 - val_accuracy: 0.7931\n",
            "Epoch 12/50\n",
            "200/200 [==============================] - 1s 4ms/step - loss: 0.2678 - accuracy: 0.8737 - val_loss: 0.5983 - val_accuracy: 0.7845\n",
            "Epoch 13/50\n",
            "200/200 [==============================] - 1s 5ms/step - loss: 0.2933 - accuracy: 0.8587 - val_loss: 0.6731 - val_accuracy: 0.7586\n",
            "Epoch 14/50\n",
            "200/200 [==============================] - 1s 5ms/step - loss: 0.2813 - accuracy: 0.8725 - val_loss: 0.6825 - val_accuracy: 0.7845\n",
            "Epoch 15/50\n",
            "200/200 [==============================] - 1s 6ms/step - loss: 0.2742 - accuracy: 0.8775 - val_loss: 0.6248 - val_accuracy: 0.7759\n",
            "Epoch 16/50\n",
            "200/200 [==============================] - 1s 6ms/step - loss: 0.2787 - accuracy: 0.8687 - val_loss: 0.6557 - val_accuracy: 0.7586\n",
            "Epoch 17/50\n",
            "200/200 [==============================] - 1s 7ms/step - loss: 0.2838 - accuracy: 0.8662 - val_loss: 0.6356 - val_accuracy: 0.7672\n",
            "Epoch 18/50\n",
            "200/200 [==============================] - 1s 6ms/step - loss: 0.2681 - accuracy: 0.8800 - val_loss: 0.6243 - val_accuracy: 0.7414\n",
            "Epoch 19/50\n",
            "200/200 [==============================] - 1s 5ms/step - loss: 0.2783 - accuracy: 0.8813 - val_loss: 0.6181 - val_accuracy: 0.7759\n",
            "Epoch 20/50\n",
            "200/200 [==============================] - 1s 3ms/step - loss: 0.2583 - accuracy: 0.8800 - val_loss: 0.6694 - val_accuracy: 0.7586\n",
            "Epoch 21/50\n",
            "200/200 [==============================] - 1s 3ms/step - loss: 0.2788 - accuracy: 0.8525 - val_loss: 0.6454 - val_accuracy: 0.7845\n",
            "Epoch 22/50\n",
            "200/200 [==============================] - 1s 3ms/step - loss: 0.2597 - accuracy: 0.8825 - val_loss: 0.6968 - val_accuracy: 0.7845\n",
            "Epoch 23/50\n",
            "200/200 [==============================] - 1s 3ms/step - loss: 0.2742 - accuracy: 0.8687 - val_loss: 0.6449 - val_accuracy: 0.7759\n",
            "Epoch 24/50\n",
            "200/200 [==============================] - 1s 3ms/step - loss: 0.2626 - accuracy: 0.8800 - val_loss: 0.7113 - val_accuracy: 0.7586\n",
            "Epoch 25/50\n",
            "200/200 [==============================] - 1s 3ms/step - loss: 0.2536 - accuracy: 0.8750 - val_loss: 0.6540 - val_accuracy: 0.7672\n",
            "Epoch 26/50\n",
            "200/200 [==============================] - 1s 3ms/step - loss: 0.2739 - accuracy: 0.8675 - val_loss: 0.7031 - val_accuracy: 0.7500\n",
            "Epoch 27/50\n",
            "200/200 [==============================] - 1s 3ms/step - loss: 0.2696 - accuracy: 0.8813 - val_loss: 0.6316 - val_accuracy: 0.7672\n",
            "Epoch 28/50\n",
            "200/200 [==============================] - 1s 3ms/step - loss: 0.2424 - accuracy: 0.8900 - val_loss: 0.7163 - val_accuracy: 0.7500\n",
            "Epoch 29/50\n",
            "200/200 [==============================] - 1s 3ms/step - loss: 0.2651 - accuracy: 0.8863 - val_loss: 0.6830 - val_accuracy: 0.7414\n",
            "Epoch 30/50\n",
            "200/200 [==============================] - 1s 3ms/step - loss: 0.2753 - accuracy: 0.8600 - val_loss: 0.7806 - val_accuracy: 0.7759\n",
            "Epoch 31/50\n",
            "200/200 [==============================] - 1s 3ms/step - loss: 0.2627 - accuracy: 0.8888 - val_loss: 0.6893 - val_accuracy: 0.7500\n",
            "Epoch 32/50\n",
            "200/200 [==============================] - 1s 3ms/step - loss: 0.2377 - accuracy: 0.8888 - val_loss: 0.7543 - val_accuracy: 0.7672\n",
            "Epoch 33/50\n",
            "200/200 [==============================] - 1s 3ms/step - loss: 0.2556 - accuracy: 0.8850 - val_loss: 0.7786 - val_accuracy: 0.7759\n",
            "Epoch 34/50\n",
            "200/200 [==============================] - 1s 3ms/step - loss: 0.2507 - accuracy: 0.8813 - val_loss: 0.7507 - val_accuracy: 0.7759\n",
            "Epoch 35/50\n",
            "200/200 [==============================] - 1s 3ms/step - loss: 0.2438 - accuracy: 0.8888 - val_loss: 0.7327 - val_accuracy: 0.7500\n",
            "Epoch 36/50\n",
            "200/200 [==============================] - 1s 3ms/step - loss: 0.2451 - accuracy: 0.8938 - val_loss: 0.6893 - val_accuracy: 0.7586\n",
            "Epoch 37/50\n",
            "200/200 [==============================] - 1s 3ms/step - loss: 0.2762 - accuracy: 0.8712 - val_loss: 0.7587 - val_accuracy: 0.7500\n",
            "Epoch 38/50\n",
            "200/200 [==============================] - 1s 3ms/step - loss: 0.2333 - accuracy: 0.8975 - val_loss: 0.7103 - val_accuracy: 0.7672\n",
            "Epoch 39/50\n",
            "200/200 [==============================] - 1s 3ms/step - loss: 0.2403 - accuracy: 0.8913 - val_loss: 0.7321 - val_accuracy: 0.7759\n",
            "Epoch 40/50\n",
            "200/200 [==============================] - 1s 3ms/step - loss: 0.2305 - accuracy: 0.8963 - val_loss: 0.8467 - val_accuracy: 0.7414\n",
            "Epoch 41/50\n",
            "147/200 [=====================>........] - ETA: 0s - loss: 0.2446 - accuracy: 0.9014"
          ]
        },
        {
          "output_type": "stream",
          "name": "stderr",
          "text": [
            "WARNING:tensorflow:Your input ran out of data; interrupting training. Make sure that your dataset or generator can generate at least `steps_per_epoch * epochs` batches (in this case, 10000 batches). You may need to use the repeat() function when building your dataset.\n"
          ]
        },
        {
          "output_type": "stream",
          "name": "stdout",
          "text": [
            "\b\b\b\b\b\b\b\b\b\b\b\b\b\b\b\b\b\b\b\b\b\b\b\b\b\b\b\b\b\b\b\b\b\b\b\b\b\b\b\b\b\b\b\b\b\b\b\b\b\b\b\b\b\b\b\b\b\b\b\b\b\b\b\b\b\b\b\b\b\b\b\b\b\b\b\b\b\b\b\b\b\b\b\b\r200/200 [==============================] - 0s 2ms/step - loss: 0.2455 - accuracy: 0.9017 - val_loss: 0.7286 - val_accuracy: 0.7931\n"
          ]
        }
      ]
    },
    {
      "cell_type": "code",
      "source": [
        "model.evaluate(xtest,ytest)"
      ],
      "metadata": {
        "colab": {
          "base_uri": "https://localhost:8080/"
        },
        "id": "x7CW4wgK7zSY",
        "outputId": "5221fbfb-4f85-45bf-c20d-35ed6c753e74"
      },
      "execution_count": null,
      "outputs": [
        {
          "output_type": "stream",
          "name": "stdout",
          "text": [
            "4/4 [==============================] - 0s 4ms/step - loss: 21.2114 - accuracy: 0.6810\n"
          ]
        },
        {
          "output_type": "execute_result",
          "data": {
            "text/plain": [
              "[21.21137809753418, 0.681034505367279]"
            ]
          },
          "metadata": {},
          "execution_count": 42
        }
      ]
    },
    {
      "cell_type": "markdown",
      "source": [
        "The ANN trained on the standardised and upsampled data performed the best result with 68% test accuracy."
      ],
      "metadata": {
        "id": "U6j63M0h-9o3"
      }
    },
    {
      "cell_type": "code",
      "source": [
        "model.save(\"DiaCare.h5\")"
      ],
      "metadata": {
        "id": "Kjjkgwj772F4"
      },
      "execution_count": null,
      "outputs": []
    },
    {
      "cell_type": "code",
      "source": [
        "from tensorflow import keras\n",
        "model1 = keras.models.load_model(\"DiaCare.h5\")"
      ],
      "metadata": {
        "id": "91T2TUS-DhCU"
      },
      "execution_count": null,
      "outputs": []
    },
    {
      "cell_type": "code",
      "source": [
        "model1.predict()"
      ],
      "metadata": {
        "id": "7dyVqFSOHa95"
      },
      "execution_count": null,
      "outputs": []
    }
  ]
}